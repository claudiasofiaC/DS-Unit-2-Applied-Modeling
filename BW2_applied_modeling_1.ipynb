{
  "nbformat": 4,
  "nbformat_minor": 0,
  "metadata": {
    "colab": {
      "name": "BW2: applied_modeling_1.ipynb",
      "provenance": [],
      "collapsed_sections": [],
      "include_colab_link": true
    },
    "kernelspec": {
      "display_name": "Python 3",
      "language": "python",
      "name": "python3"
    },
    "language_info": {
      "codemirror_mode": {
        "name": "ipython",
        "version": 3
      },
      "file_extension": ".py",
      "mimetype": "text/x-python",
      "name": "python",
      "nbconvert_exporter": "python",
      "pygments_lexer": "ipython3",
      "version": "3.7.3"
    }
  },
  "cells": [
    {
      "cell_type": "markdown",
      "metadata": {
        "id": "view-in-github",
        "colab_type": "text"
      },
      "source": [
        "<a href=\"https://colab.research.google.com/github/claudiasofiaC/DS-Unit-2-Applied-Modeling/blob/master/BW2_applied_modeling_1.ipynb\" target=\"_parent\"><img src=\"https://colab.research.google.com/assets/colab-badge.svg\" alt=\"Open In Colab\"/></a>"
      ]
    },
    {
      "cell_type": "markdown",
      "metadata": {
        "colab_type": "text",
        "id": "nCc3XZEyG3XV"
      },
      "source": [
        "Lambda School Data Science\n",
        "\n",
        "*Unit 2, Sprint 3, Module 1*\n",
        "\n",
        "---\n",
        "\n",
        "\n",
        "# Define ML problems\n",
        "\n",
        "You will use your portfolio project dataset for all assignments this sprint.\n",
        "\n",
        "## Assignment\n",
        "\n",
        "Complete these tasks for your project, and document your decisions.\n",
        "\n",
        "- [ ] Choose your target. Which column in your tabular dataset will you predict?\n",
        "- [ ] Is your problem regression or classification?\n",
        "- [ ] How is your target distributed?\n",
        "    - Classification: How many classes? Are the classes imbalanced?\n",
        "    - Regression: Is the target right-skewed? If so, you may want to log transform the target.\n",
        "- [ ] Choose which observations you will use to train, validate, and test your model.\n",
        "    - Are some observations outliers? Will you exclude them?\n",
        "    - Will you do a random split or a time-based split?\n",
        "- [ ] Choose your evaluation metric(s).\n",
        "    - Classification: Is your majority class frequency > 50% and < 70% ? If so, you can just use accuracy if you want. Outside that range, accuracy could be misleading. What evaluation metric will you choose, in addition to or instead of accuracy?\n",
        "- [ ] Begin to clean and explore your data.\n",
        "- [ ] Begin to choose which features, if any, to exclude. Would some features \"leak\" future information?"
      ]
    },
    {
      "cell_type": "code",
      "metadata": {
        "id": "aqpUPiXfnG2p",
        "colab_type": "code",
        "colab": {}
      },
      "source": [
        ""
      ],
      "execution_count": 0,
      "outputs": []
    },
    {
      "cell_type": "markdown",
      "metadata": {
        "id": "3KttkwRKwB2G",
        "colab_type": "text"
      },
      "source": [
        "## COLUMNS\n",
        "\n",
        "MOVIES_ACTORS: Actors, \n",
        "Imdb ID \n",
        "\n",
        "MOVIES_ADDITIONAL_RATING: Rating, \n",
        "Rating Source, \n",
        "Imdb ID\n",
        "\n",
        "MOVIES_GENRES: Genre, \n",
        "Imdb ID\n",
        "\n",
        "MOVIES_MOVIES: Awards,\n",
        "Country,\n",
        "DVD, \n",
        "Director, \n",
        "Language, \n",
        "Plot,\n",
        "Poster, \n",
        "Production, \n",
        "Rated, \n",
        "Released, \n",
        "Runtime, \n",
        "Title, \n",
        "Website, \n",
        "Year, \n",
        "Imdb ID, \n",
        "Imdb Rating, \n",
        "Imdb votes,\n",
        "\n",
        "MOVIES_WRITER: Person, \n",
        "Responsibility, \n",
        "Imdb ID"
      ]
    },
    {
      "cell_type": "code",
      "metadata": {
        "id": "W7sCRcldyQFk",
        "colab_type": "code",
        "colab": {
          "resources": {
            "http://localhost:8080/nbextensions/google.colab/files.js": {
              "data": "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",
              "ok": true,
              "headers": [
                [
                  "content-type",
                  "application/javascript"
                ]
              ],
              "status": 200,
              "status_text": ""
            }
          },
          "base_uri": "https://localhost:8080/",
          "height": 71
        },
        "outputId": "c26d1c16-a536-4c9b-8683-bf776e581169"
      },
      "source": [
        "# Movie_Movies dataset is way too big for github\n",
        "# so uploading from \n",
        "from google.colab import files\n",
        "uploaded = files.upload()\n"
      ],
      "execution_count": 10,
      "outputs": [
        {
          "output_type": "display_data",
          "data": {
            "text/html": [
              "\n",
              "     <input type=\"file\" id=\"files-96c8bdc8-845b-4e23-8f72-68ffebab6845\" name=\"files[]\" multiple disabled />\n",
              "     <output id=\"result-96c8bdc8-845b-4e23-8f72-68ffebab6845\">\n",
              "      Upload widget is only available when the cell has been executed in the\n",
              "      current browser session. Please rerun this cell to enable.\n",
              "      </output>\n",
              "      <script src=\"/nbextensions/google.colab/files.js\"></script> "
            ],
            "text/plain": [
              "<IPython.core.display.HTML object>"
            ]
          },
          "metadata": {
            "tags": []
          }
        },
        {
          "output_type": "stream",
          "text": [
            "Saving Movie_Movies.csv to Movie_Movies.csv\n"
          ],
          "name": "stdout"
        }
      ]
    },
    {
      "cell_type": "code",
      "metadata": {
        "id": "KlyNeqBOyQSn",
        "colab_type": "code",
        "colab": {}
      },
      "source": [
        "import pandas as pd\n",
        "import numpy as np"
      ],
      "execution_count": 0,
      "outputs": []
    },
    {
      "cell_type": "code",
      "metadata": {
        "id": "jK_Sh52PyQVF",
        "colab_type": "code",
        "colab": {
          "base_uri": "https://localhost:8080/",
          "height": 156
        },
        "outputId": "fb2287ab-3c1e-46e8-8cfc-b15fa9be63ce"
      },
      "source": [
        "movies = pd.read_csv('Movie_Movies.csv')\n",
        "print(movies.shape)\n",
        "movies.columns"
      ],
      "execution_count": 11,
      "outputs": [
        {
          "output_type": "stream",
          "text": [
            "(178687, 18)\n"
          ],
          "name": "stdout"
        },
        {
          "output_type": "stream",
          "text": [
            "/usr/local/lib/python3.6/dist-packages/IPython/core/interactiveshell.py:2718: DtypeWarning: Columns (14) have mixed types. Specify dtype option on import or set low_memory=False.\n",
            "  interactivity=interactivity, compiler=compiler, result=result)\n"
          ],
          "name": "stderr"
        },
        {
          "output_type": "execute_result",
          "data": {
            "text/plain": [
              "Index(['Awards', 'Country', 'DVD', 'Director', 'Language', 'Plot', 'Poster',\n",
              "       'Production', 'Rated', 'Released', 'Runtime', 'Title', 'Type',\n",
              "       'Website', 'Year', 'imdbID', 'imdbRating', 'imdbVotes'],\n",
              "      dtype='object')"
            ]
          },
          "metadata": {
            "tags": []
          },
          "execution_count": 11
        }
      ]
    },
    {
      "cell_type": "code",
      "metadata": {
        "id": "x_FsdbBy3SIj",
        "colab_type": "code",
        "colab": {}
      },
      "source": [
        "actors = pd.read_csv('https://raw.githubusercontent.com/claudiasofiaC/build-week/master/Movie_Actors.csv?token=AMYQQCUB4V2VT6OEVOIRU6C52R23S')"
      ],
      "execution_count": 0,
      "outputs": []
    },
    {
      "cell_type": "code",
      "metadata": {
        "id": "NQt7OTO-3zaS",
        "colab_type": "code",
        "colab": {
          "base_uri": "https://localhost:8080/",
          "height": 51
        },
        "outputId": "def14608-2827-4199-91f1-71c9abaa074e"
      },
      "source": [
        "print(actors.shape)\n",
        "actors.columns"
      ],
      "execution_count": 13,
      "outputs": [
        {
          "output_type": "stream",
          "text": [
            "(143869, 3)\n"
          ],
          "name": "stdout"
        },
        {
          "output_type": "execute_result",
          "data": {
            "text/plain": [
              "Index(['Unnamed: 0', 'Actors', 'imdbID'], dtype='object')"
            ]
          },
          "metadata": {
            "tags": []
          },
          "execution_count": 13
        }
      ]
    },
    {
      "cell_type": "code",
      "metadata": {
        "id": "fWo7F87v37hq",
        "colab_type": "code",
        "colab": {
          "base_uri": "https://localhost:8080/",
          "height": 51
        },
        "outputId": "c8c4aff5-38f3-43de-ac51-781312735be3"
      },
      "source": [
        "additional_rating = pd.read_csv('https://raw.githubusercontent.com/claudiasofiaC/build-week/master/Movie_AdditionalRating.csv?token=AMYQQCS2NHMBCFKMUOX2DP252R26O')\n",
        "print(additional_rating.shape)\n",
        "additional_rating.columns"
      ],
      "execution_count": 14,
      "outputs": [
        {
          "output_type": "stream",
          "text": [
            "(92016, 4)\n"
          ],
          "name": "stdout"
        },
        {
          "output_type": "execute_result",
          "data": {
            "text/plain": [
              "Index(['Unnamed: 0', 'Rating', 'RatingSource', 'imdbID'], dtype='object')"
            ]
          },
          "metadata": {
            "tags": []
          },
          "execution_count": 14
        }
      ]
    },
    {
      "cell_type": "code",
      "metadata": {
        "id": "88VSPZpf4JSQ",
        "colab_type": "code",
        "colab": {
          "base_uri": "https://localhost:8080/",
          "height": 51
        },
        "outputId": "d09fd007-afef-4690-e31a-55d8f4d9cf52"
      },
      "source": [
        "genres = pd.read_csv('https://raw.githubusercontent.com/claudiasofiaC/build-week/master/Movie_Genres.csv?token=AMYQQCR4J7IFGJTK6HMPTB252R3BU')\n",
        "print(genres.shape)\n",
        "genres.columns"
      ],
      "execution_count": 15,
      "outputs": [
        {
          "output_type": "stream",
          "text": [
            "(308565, 3)\n"
          ],
          "name": "stdout"
        },
        {
          "output_type": "execute_result",
          "data": {
            "text/plain": [
              "Index(['Unnamed: 0', 'Genre', 'imdbID'], dtype='object')"
            ]
          },
          "metadata": {
            "tags": []
          },
          "execution_count": 15
        }
      ]
    },
    {
      "cell_type": "code",
      "metadata": {
        "id": "UhtlibTA4TN6",
        "colab_type": "code",
        "colab": {
          "base_uri": "https://localhost:8080/",
          "height": 51
        },
        "outputId": "75f9ffba-1a5e-49a9-fb63-0c357b4ad926"
      },
      "source": [
        "writers = pd.read_csv('https://raw.githubusercontent.com/claudiasofiaC/build-week/master/Movie_Writer.csv?token=AMYQQCUUKRGG45YX3PWJIU252R3EK')\n",
        "print(writers.shape)\n",
        "writers.columns"
      ],
      "execution_count": 16,
      "outputs": [
        {
          "output_type": "stream",
          "text": [
            "(66164, 4)\n"
          ],
          "name": "stdout"
        },
        {
          "output_type": "execute_result",
          "data": {
            "text/plain": [
              "Index(['Unnamed: 0', 'Person', 'Responsibility', 'imdbID'], dtype='object')"
            ]
          },
          "metadata": {
            "tags": []
          },
          "execution_count": 16
        }
      ]
    },
    {
      "cell_type": "code",
      "metadata": {
        "id": "1SXxClm04dXI",
        "colab_type": "code",
        "colab": {}
      },
      "source": [
        "# choose your target\n",
        "# imdb rating (on a 'good' movie)\n",
        "\n",
        "# regression or classification?\n",
        "# regression\n",
        "\n",
        "\n",
        "# how is your target distrbuted?\n",
        "\n",
        "\n",
        "# choose your evaluation metrics\n",
        "\n",
        "\n",
        "\n",
        "#"
      ],
      "execution_count": 0,
      "outputs": []
    },
    {
      "cell_type": "code",
      "metadata": {
        "id": "2DMf_oYX9dqi",
        "colab_type": "code",
        "colab": {}
      },
      "source": [
        "import pandas_profiling\n"
      ],
      "execution_count": 0,
      "outputs": []
    },
    {
      "cell_type": "code",
      "metadata": {
        "id": "68b-LswI9duX",
        "colab_type": "code",
        "colab": {}
      },
      "source": [
        "pandas_profiling.ProfileReport(movies)"
      ],
      "execution_count": 0,
      "outputs": []
    },
    {
      "cell_type": "code",
      "metadata": {
        "id": "C7vE2qNNJaem",
        "colab_type": "code",
        "colab": {}
      },
      "source": [
        "#poop. 48% missing "
      ],
      "execution_count": 0,
      "outputs": []
    },
    {
      "cell_type": "code",
      "metadata": {
        "id": "uIYv_AsN9eBM",
        "colab_type": "code",
        "colab": {
          "base_uri": "https://localhost:8080/",
          "height": 221
        },
        "outputId": "9e9e97d5-1889-4b91-8c17-31bc1c79d55b"
      },
      "source": [
        "movies['imdbRating'].value_counts()"
      ],
      "execution_count": 17,
      "outputs": [
        {
          "output_type": "execute_result",
          "data": {
            "text/plain": [
              "6.8    2221\n",
              "6.6    2063\n",
              "7.0    2053\n",
              "6.4    2011\n",
              "7.2    1989\n",
              "       ... \n",
              "1.4      21\n",
              "1.3      15\n",
              "1.2      14\n",
              "9.9      13\n",
              "1.1       8\n",
              "Name: imdbRating, Length: 91, dtype: int64"
            ]
          },
          "metadata": {
            "tags": []
          },
          "execution_count": 17
        }
      ]
    },
    {
      "cell_type": "code",
      "metadata": {
        "id": "yPx7bLpUDwY7",
        "colab_type": "code",
        "colab": {}
      },
      "source": [
        "# ehh, ok. very few 9.9's\n",
        "# 6.8 is an ok score for a movie i guess, its not great. "
      ],
      "execution_count": 0,
      "outputs": []
    },
    {
      "cell_type": "code",
      "metadata": {
        "id": "CdlxwBN1E0Wb",
        "colab_type": "code",
        "colab": {}
      },
      "source": [
        "# dropping columns i dont need or are full of 0's\n",
        "\n",
        "#movies_clean = movies.drop(['awards', 'website'], axis=1) "
      ],
      "execution_count": 0,
      "outputs": []
    },
    {
      "cell_type": "code",
      "metadata": {
        "id": "-uTgzJt7J-aV",
        "colab_type": "code",
        "colab": {}
      },
      "source": [
        "pandas_profiling.ProfileReport(writers)"
      ],
      "execution_count": 0,
      "outputs": []
    },
    {
      "cell_type": "code",
      "metadata": {
        "id": "WoXiMa7hKoUP",
        "colab_type": "code",
        "colab": {
          "base_uri": "https://localhost:8080/",
          "height": 221
        },
        "outputId": "fe887052-0f3b-4527-a783-b8eba0b2f8b2"
      },
      "source": [
        "writers['Responsibility'].value_counts()"
      ],
      "execution_count": 7,
      "outputs": [
        {
          "output_type": "execute_result",
          "data": {
            "text/plain": [
              "screenplay                                                       17454\n",
              "story                                                            17106\n",
              "novel                                                             3814\n",
              "scenario                                                          1983\n",
              "play                                                              1863\n",
              "                                                                 ...  \n",
              "worlds and characters                                                1\n",
              "inspired by the American Legacy article                              1\n",
              "based on the ESPN Magazine article and book by                       1\n",
              "based on the novel entitled \"Baggage Claim\" by                       1\n",
              "characters from \"James Lee Wong\" series in Collier's Magazine        1\n",
              "Name: Responsibility, Length: 2424, dtype: int64"
            ]
          },
          "metadata": {
            "tags": []
          },
          "execution_count": 7
        }
      ]
    },
    {
      "cell_type": "code",
      "metadata": {
        "id": "gO5PETxSJ-XX",
        "colab_type": "code",
        "colab": {}
      },
      "source": [
        "pandas_profiling.ProfileReport(genres)"
      ],
      "execution_count": 0,
      "outputs": []
    },
    {
      "cell_type": "code",
      "metadata": {
        "id": "yz7uPTrOJ-UG",
        "colab_type": "code",
        "colab": {}
      },
      "source": [
        "pandas_profiling.ProfileReport(actors)"
      ],
      "execution_count": 0,
      "outputs": []
    },
    {
      "cell_type": "code",
      "metadata": {
        "id": "AcCgaYkBKPAk",
        "colab_type": "code",
        "colab": {}
      },
      "source": [
        "# first the big merge\n",
        "# then trim it down, i guess\n",
        "\n",
        "\n",
        "\n",
        "# from movies_movies. take title\n"
      ],
      "execution_count": 0,
      "outputs": []
    },
    {
      "cell_type": "code",
      "metadata": {
        "id": "bhXRxrqtKO-T",
        "colab_type": "code",
        "colab": {}
      },
      "source": [
        "#merge\n",
        "movies_actors = pd.merge(movies, actors, how='inner', on='imdbID')\n",
        "\n",
        "movies_actors"
      ],
      "execution_count": 0,
      "outputs": []
    },
    {
      "cell_type": "code",
      "metadata": {
        "id": "fmX2Ead5KO7m",
        "colab_type": "code",
        "colab": {}
      },
      "source": [
        "actors.head(10)"
      ],
      "execution_count": 0,
      "outputs": []
    },
    {
      "cell_type": "code",
      "metadata": {
        "id": "zH-GlaGVG7R3",
        "colab_type": "code",
        "colab": {
          "base_uri": "https://localhost:8080/",
          "height": 34
        },
        "outputId": "339f3f2e-c5a8-4378-89bd-e5b7f5b6a10c"
      },
      "source": [
        "writers.columns"
      ],
      "execution_count": 24,
      "outputs": [
        {
          "output_type": "execute_result",
          "data": {
            "text/plain": [
              "Index(['Unnamed: 0', 'Person', 'Responsibility', 'imdbID'], dtype='object')"
            ]
          },
          "metadata": {
            "tags": []
          },
          "execution_count": 24
        }
      ]
    },
    {
      "cell_type": "code",
      "metadata": {
        "id": "H6cAfONLHse4",
        "colab_type": "code",
        "colab": {}
      },
      "source": [
        "movies_actors_writers = pd.merge(movies_actors, writers, how='inner', on='imdbID')\n",
        "\n",
        "movies_actors_writers"
      ],
      "execution_count": 0,
      "outputs": []
    },
    {
      "cell_type": "code",
      "metadata": {
        "id": "HLc0OwAwIQF9",
        "colab_type": "code",
        "colab": {}
      },
      "source": [
        "full_movie_info = pd.merge(movies_actors_writers, genres, how='inner', on='imdbID')"
      ],
      "execution_count": 0,
      "outputs": []
    },
    {
      "cell_type": "code",
      "metadata": {
        "id": "eWQV5CYPInky",
        "colab_type": "code",
        "colab": {
          "base_uri": "https://localhost:8080/",
          "height": 615
        },
        "outputId": "dd4d7d76-517b-4d6b-e209-1711d3b89077"
      },
      "source": [
        "full_movie_info.head()"
      ],
      "execution_count": 53,
      "outputs": [
        {
          "output_type": "execute_result",
          "data": {
            "text/html": [
              "<div>\n",
              "<style scoped>\n",
              "    .dataframe tbody tr th:only-of-type {\n",
              "        vertical-align: middle;\n",
              "    }\n",
              "\n",
              "    .dataframe tbody tr th {\n",
              "        vertical-align: top;\n",
              "    }\n",
              "\n",
              "    .dataframe thead th {\n",
              "        text-align: right;\n",
              "    }\n",
              "</style>\n",
              "<table border=\"1\" class=\"dataframe\">\n",
              "  <thead>\n",
              "    <tr style=\"text-align: right;\">\n",
              "      <th></th>\n",
              "      <th>Awards</th>\n",
              "      <th>Country</th>\n",
              "      <th>DVD</th>\n",
              "      <th>Director</th>\n",
              "      <th>Language</th>\n",
              "      <th>Plot</th>\n",
              "      <th>Poster</th>\n",
              "      <th>Production</th>\n",
              "      <th>Rated</th>\n",
              "      <th>Released</th>\n",
              "      <th>Runtime</th>\n",
              "      <th>Title</th>\n",
              "      <th>Type</th>\n",
              "      <th>Website</th>\n",
              "      <th>Year</th>\n",
              "      <th>imdbID</th>\n",
              "      <th>imdbRating</th>\n",
              "      <th>imdbVotes</th>\n",
              "      <th>Unnamed: 0_x</th>\n",
              "      <th>Actors</th>\n",
              "      <th>Unnamed: 0_y</th>\n",
              "      <th>Person</th>\n",
              "      <th>Responsibility</th>\n",
              "      <th>Unnamed: 0</th>\n",
              "      <th>Genre</th>\n",
              "    </tr>\n",
              "  </thead>\n",
              "  <tbody>\n",
              "    <tr>\n",
              "      <th>0</th>\n",
              "      <td>NaN</td>\n",
              "      <td>USA</td>\n",
              "      <td>NaN</td>\n",
              "      <td>Dimitri Buchowetzki</td>\n",
              "      <td>NaN</td>\n",
              "      <td>NaN</td>\n",
              "      <td>NaN</td>\n",
              "      <td>NaN</td>\n",
              "      <td>NaN</td>\n",
              "      <td>27 Mar 1926</td>\n",
              "      <td>50 min</td>\n",
              "      <td>The Crown of Lies</td>\n",
              "      <td>movie</td>\n",
              "      <td>NaN</td>\n",
              "      <td>1926</td>\n",
              "      <td>tt0016750</td>\n",
              "      <td>NaN</td>\n",
              "      <td>NaN</td>\n",
              "      <td>2</td>\n",
              "      <td>Charles A. Post</td>\n",
              "      <td>0</td>\n",
              "      <td>Ernest Vajda</td>\n",
              "      <td>story</td>\n",
              "      <td>4</td>\n",
              "      <td>Drama</td>\n",
              "    </tr>\n",
              "    <tr>\n",
              "      <th>1</th>\n",
              "      <td>NaN</td>\n",
              "      <td>USA</td>\n",
              "      <td>NaN</td>\n",
              "      <td>Dimitri Buchowetzki</td>\n",
              "      <td>NaN</td>\n",
              "      <td>NaN</td>\n",
              "      <td>NaN</td>\n",
              "      <td>NaN</td>\n",
              "      <td>NaN</td>\n",
              "      <td>27 Mar 1926</td>\n",
              "      <td>50 min</td>\n",
              "      <td>The Crown of Lies</td>\n",
              "      <td>movie</td>\n",
              "      <td>NaN</td>\n",
              "      <td>1926</td>\n",
              "      <td>tt0016750</td>\n",
              "      <td>NaN</td>\n",
              "      <td>NaN</td>\n",
              "      <td>2</td>\n",
              "      <td>Charles A. Post</td>\n",
              "      <td>0</td>\n",
              "      <td>Ernest Vajda</td>\n",
              "      <td>story</td>\n",
              "      <td>5</td>\n",
              "      <td>Romance</td>\n",
              "    </tr>\n",
              "    <tr>\n",
              "      <th>2</th>\n",
              "      <td>NaN</td>\n",
              "      <td>USA</td>\n",
              "      <td>NaN</td>\n",
              "      <td>Ben F. Wilson</td>\n",
              "      <td>English</td>\n",
              "      <td>NaN</td>\n",
              "      <td>NaN</td>\n",
              "      <td>NaN</td>\n",
              "      <td>NaN</td>\n",
              "      <td>07 Sep 1915</td>\n",
              "      <td>NaN</td>\n",
              "      <td>Sh! Don't Wake the Baby</td>\n",
              "      <td>movie</td>\n",
              "      <td>NaN</td>\n",
              "      <td>1915</td>\n",
              "      <td>tt0328410</td>\n",
              "      <td>NaN</td>\n",
              "      <td>NaN</td>\n",
              "      <td>7</td>\n",
              "      <td>Baby Rube</td>\n",
              "      <td>1</td>\n",
              "      <td>Ben F. Wilson</td>\n",
              "      <td>scenario</td>\n",
              "      <td>15</td>\n",
              "      <td>Short</td>\n",
              "    </tr>\n",
              "    <tr>\n",
              "      <th>3</th>\n",
              "      <td>NaN</td>\n",
              "      <td>USA</td>\n",
              "      <td>NaN</td>\n",
              "      <td>Ben F. Wilson</td>\n",
              "      <td>English</td>\n",
              "      <td>NaN</td>\n",
              "      <td>NaN</td>\n",
              "      <td>NaN</td>\n",
              "      <td>NaN</td>\n",
              "      <td>07 Sep 1915</td>\n",
              "      <td>NaN</td>\n",
              "      <td>Sh! Don't Wake the Baby</td>\n",
              "      <td>movie</td>\n",
              "      <td>NaN</td>\n",
              "      <td>1915</td>\n",
              "      <td>tt0328410</td>\n",
              "      <td>NaN</td>\n",
              "      <td>NaN</td>\n",
              "      <td>7</td>\n",
              "      <td>Baby Rube</td>\n",
              "      <td>1</td>\n",
              "      <td>Ben F. Wilson</td>\n",
              "      <td>scenario</td>\n",
              "      <td>16</td>\n",
              "      <td>Comedy</td>\n",
              "    </tr>\n",
              "    <tr>\n",
              "      <th>4</th>\n",
              "      <td>NaN</td>\n",
              "      <td>South Korea</td>\n",
              "      <td>NaN</td>\n",
              "      <td>Yeong-cheol Choi</td>\n",
              "      <td>Korean</td>\n",
              "      <td>A poor man does his best to raise his three ch...</td>\n",
              "      <td>NaN</td>\n",
              "      <td>NaN</td>\n",
              "      <td>NaN</td>\n",
              "      <td>14 Jan 1966</td>\n",
              "      <td>NaN</td>\n",
              "      <td>Three Shady Siblings</td>\n",
              "      <td>movie</td>\n",
              "      <td>NaN</td>\n",
              "      <td>1966</td>\n",
              "      <td>tt0366512</td>\n",
              "      <td>NaN</td>\n",
              "      <td>NaN</td>\n",
              "      <td>8</td>\n",
              "      <td>Jeung-nyeo Ju</td>\n",
              "      <td>2</td>\n",
              "      <td>Sam-yuk Yoon</td>\n",
              "      <td>screenplay</td>\n",
              "      <td>17</td>\n",
              "      <td>Drama</td>\n",
              "    </tr>\n",
              "  </tbody>\n",
              "</table>\n",
              "</div>"
            ],
            "text/plain": [
              "  Awards      Country  DVD  ... Responsibility Unnamed: 0     Genre\n",
              "0    NaN          USA  NaN  ...          story          4     Drama\n",
              "1    NaN          USA  NaN  ...          story          5   Romance\n",
              "2    NaN          USA  NaN  ...       scenario         15     Short\n",
              "3    NaN          USA  NaN  ...       scenario         16    Comedy\n",
              "4    NaN  South Korea  NaN  ...     screenplay         17     Drama\n",
              "\n",
              "[5 rows x 25 columns]"
            ]
          },
          "metadata": {
            "tags": []
          },
          "execution_count": 53
        }
      ]
    },
    {
      "cell_type": "code",
      "metadata": {
        "id": "Saewo3DLIpVR",
        "colab_type": "code",
        "colab": {
          "base_uri": "https://localhost:8080/",
          "height": 1000
        },
        "outputId": "dbad0984-7cf2-47ed-c233-63bc10817c5a"
      },
      "source": [
        "# get rid of movies without ratings\n",
        "# ok, a very thorough cleaning, dropping row if imdbRating nan\n",
        "\n",
        "\n",
        "full_movie_info_3 = full_movie_info.dropna(subset=['imdbRating'])\n",
        "\n",
        "\n",
        "print(full_movie_info_3.shape)\n",
        "full_movie_info_3"
      ],
      "execution_count": 55,
      "outputs": [
        {
          "output_type": "stream",
          "text": [
            "(94926, 25)\n"
          ],
          "name": "stdout"
        },
        {
          "output_type": "execute_result",
          "data": {
            "text/html": [
              "<div>\n",
              "<style scoped>\n",
              "    .dataframe tbody tr th:only-of-type {\n",
              "        vertical-align: middle;\n",
              "    }\n",
              "\n",
              "    .dataframe tbody tr th {\n",
              "        vertical-align: top;\n",
              "    }\n",
              "\n",
              "    .dataframe thead th {\n",
              "        text-align: right;\n",
              "    }\n",
              "</style>\n",
              "<table border=\"1\" class=\"dataframe\">\n",
              "  <thead>\n",
              "    <tr style=\"text-align: right;\">\n",
              "      <th></th>\n",
              "      <th>Awards</th>\n",
              "      <th>Country</th>\n",
              "      <th>DVD</th>\n",
              "      <th>Director</th>\n",
              "      <th>Language</th>\n",
              "      <th>Plot</th>\n",
              "      <th>Poster</th>\n",
              "      <th>Production</th>\n",
              "      <th>Rated</th>\n",
              "      <th>Released</th>\n",
              "      <th>Runtime</th>\n",
              "      <th>Title</th>\n",
              "      <th>Type</th>\n",
              "      <th>Website</th>\n",
              "      <th>Year</th>\n",
              "      <th>imdbID</th>\n",
              "      <th>imdbRating</th>\n",
              "      <th>imdbVotes</th>\n",
              "      <th>Unnamed: 0_x</th>\n",
              "      <th>Actors</th>\n",
              "      <th>Unnamed: 0_y</th>\n",
              "      <th>Person</th>\n",
              "      <th>Responsibility</th>\n",
              "      <th>Unnamed: 0</th>\n",
              "      <th>Genre</th>\n",
              "    </tr>\n",
              "  </thead>\n",
              "  <tbody>\n",
              "    <tr>\n",
              "      <th>5</th>\n",
              "      <td>1 nomination.</td>\n",
              "      <td>USA</td>\n",
              "      <td>31 Jul 2001</td>\n",
              "      <td>Terry L. Noss, Richard Rich</td>\n",
              "      <td>English</td>\n",
              "      <td>It's a high-flying adventure when Louie, a mut...</td>\n",
              "      <td>https://images-na.ssl-images-amazon.com/images...</td>\n",
              "      <td>Columbia Pictures</td>\n",
              "      <td>G</td>\n",
              "      <td>01 Mar 2001</td>\n",
              "      <td>75 min</td>\n",
              "      <td>The Trumpet of the Swan</td>\n",
              "      <td>movie</td>\n",
              "      <td>NaN</td>\n",
              "      <td>2001</td>\n",
              "      <td>tt0206367</td>\n",
              "      <td>5.0</td>\n",
              "      <td>813</td>\n",
              "      <td>21</td>\n",
              "      <td>Seth Green</td>\n",
              "      <td>3</td>\n",
              "      <td>Judy Rothman Rofé</td>\n",
              "      <td>screenplay</td>\n",
              "      <td>37</td>\n",
              "      <td>Animation</td>\n",
              "    </tr>\n",
              "    <tr>\n",
              "      <th>6</th>\n",
              "      <td>1 nomination.</td>\n",
              "      <td>USA</td>\n",
              "      <td>31 Jul 2001</td>\n",
              "      <td>Terry L. Noss, Richard Rich</td>\n",
              "      <td>English</td>\n",
              "      <td>It's a high-flying adventure when Louie, a mut...</td>\n",
              "      <td>https://images-na.ssl-images-amazon.com/images...</td>\n",
              "      <td>Columbia Pictures</td>\n",
              "      <td>G</td>\n",
              "      <td>01 Mar 2001</td>\n",
              "      <td>75 min</td>\n",
              "      <td>The Trumpet of the Swan</td>\n",
              "      <td>movie</td>\n",
              "      <td>NaN</td>\n",
              "      <td>2001</td>\n",
              "      <td>tt0206367</td>\n",
              "      <td>5.0</td>\n",
              "      <td>813</td>\n",
              "      <td>21</td>\n",
              "      <td>Seth Green</td>\n",
              "      <td>3</td>\n",
              "      <td>Judy Rothman Rofé</td>\n",
              "      <td>screenplay</td>\n",
              "      <td>38</td>\n",
              "      <td>Drama</td>\n",
              "    </tr>\n",
              "    <tr>\n",
              "      <th>7</th>\n",
              "      <td>1 nomination.</td>\n",
              "      <td>USA</td>\n",
              "      <td>31 Jul 2001</td>\n",
              "      <td>Terry L. Noss, Richard Rich</td>\n",
              "      <td>English</td>\n",
              "      <td>It's a high-flying adventure when Louie, a mut...</td>\n",
              "      <td>https://images-na.ssl-images-amazon.com/images...</td>\n",
              "      <td>Columbia Pictures</td>\n",
              "      <td>G</td>\n",
              "      <td>01 Mar 2001</td>\n",
              "      <td>75 min</td>\n",
              "      <td>The Trumpet of the Swan</td>\n",
              "      <td>movie</td>\n",
              "      <td>NaN</td>\n",
              "      <td>2001</td>\n",
              "      <td>tt0206367</td>\n",
              "      <td>5.0</td>\n",
              "      <td>813</td>\n",
              "      <td>21</td>\n",
              "      <td>Seth Green</td>\n",
              "      <td>3</td>\n",
              "      <td>Judy Rothman Rofé</td>\n",
              "      <td>screenplay</td>\n",
              "      <td>39</td>\n",
              "      <td>Family</td>\n",
              "    </tr>\n",
              "    <tr>\n",
              "      <th>8</th>\n",
              "      <td>1 nomination.</td>\n",
              "      <td>USA</td>\n",
              "      <td>31 Jul 2001</td>\n",
              "      <td>Terry L. Noss, Richard Rich</td>\n",
              "      <td>English</td>\n",
              "      <td>It's a high-flying adventure when Louie, a mut...</td>\n",
              "      <td>https://images-na.ssl-images-amazon.com/images...</td>\n",
              "      <td>Columbia Pictures</td>\n",
              "      <td>G</td>\n",
              "      <td>01 Mar 2001</td>\n",
              "      <td>75 min</td>\n",
              "      <td>The Trumpet of the Swan</td>\n",
              "      <td>movie</td>\n",
              "      <td>NaN</td>\n",
              "      <td>2001</td>\n",
              "      <td>tt0206367</td>\n",
              "      <td>5.0</td>\n",
              "      <td>813</td>\n",
              "      <td>21</td>\n",
              "      <td>Seth Green</td>\n",
              "      <td>4</td>\n",
              "      <td>E.B. White</td>\n",
              "      <td>book</td>\n",
              "      <td>37</td>\n",
              "      <td>Animation</td>\n",
              "    </tr>\n",
              "    <tr>\n",
              "      <th>9</th>\n",
              "      <td>1 nomination.</td>\n",
              "      <td>USA</td>\n",
              "      <td>31 Jul 2001</td>\n",
              "      <td>Terry L. Noss, Richard Rich</td>\n",
              "      <td>English</td>\n",
              "      <td>It's a high-flying adventure when Louie, a mut...</td>\n",
              "      <td>https://images-na.ssl-images-amazon.com/images...</td>\n",
              "      <td>Columbia Pictures</td>\n",
              "      <td>G</td>\n",
              "      <td>01 Mar 2001</td>\n",
              "      <td>75 min</td>\n",
              "      <td>The Trumpet of the Swan</td>\n",
              "      <td>movie</td>\n",
              "      <td>NaN</td>\n",
              "      <td>2001</td>\n",
              "      <td>tt0206367</td>\n",
              "      <td>5.0</td>\n",
              "      <td>813</td>\n",
              "      <td>21</td>\n",
              "      <td>Seth Green</td>\n",
              "      <td>4</td>\n",
              "      <td>E.B. White</td>\n",
              "      <td>book</td>\n",
              "      <td>38</td>\n",
              "      <td>Drama</td>\n",
              "    </tr>\n",
              "    <tr>\n",
              "      <th>...</th>\n",
              "      <td>...</td>\n",
              "      <td>...</td>\n",
              "      <td>...</td>\n",
              "      <td>...</td>\n",
              "      <td>...</td>\n",
              "      <td>...</td>\n",
              "      <td>...</td>\n",
              "      <td>...</td>\n",
              "      <td>...</td>\n",
              "      <td>...</td>\n",
              "      <td>...</td>\n",
              "      <td>...</td>\n",
              "      <td>...</td>\n",
              "      <td>...</td>\n",
              "      <td>...</td>\n",
              "      <td>...</td>\n",
              "      <td>...</td>\n",
              "      <td>...</td>\n",
              "      <td>...</td>\n",
              "      <td>...</td>\n",
              "      <td>...</td>\n",
              "      <td>...</td>\n",
              "      <td>...</td>\n",
              "      <td>...</td>\n",
              "      <td>...</td>\n",
              "    </tr>\n",
              "    <tr>\n",
              "      <th>127342</th>\n",
              "      <td>Nominated for 5 Oscars. Another 10 wins &amp; 75 n...</td>\n",
              "      <td>USA</td>\n",
              "      <td>27 Jun 2000</td>\n",
              "      <td>Anthony Minghella</td>\n",
              "      <td>English, Italian</td>\n",
              "      <td>In late 1950s New York, Tom Ripley, a young un...</td>\n",
              "      <td>https://images-na.ssl-images-amazon.com/images...</td>\n",
              "      <td>Paramount Pictures</td>\n",
              "      <td>R</td>\n",
              "      <td>25 Dec 1999</td>\n",
              "      <td>139 min</td>\n",
              "      <td>The Talented Mr. Ripley</td>\n",
              "      <td>movie</td>\n",
              "      <td>http://www.talentedmrripley.com</td>\n",
              "      <td>1999</td>\n",
              "      <td>tt0134119</td>\n",
              "      <td>7.4</td>\n",
              "      <td>151,938</td>\n",
              "      <td>178686</td>\n",
              "      <td>Cate Blanchett</td>\n",
              "      <td>66162</td>\n",
              "      <td>Patricia Highsmith</td>\n",
              "      <td>novel</td>\n",
              "      <td>317240</td>\n",
              "      <td>Drama</td>\n",
              "    </tr>\n",
              "    <tr>\n",
              "      <th>127343</th>\n",
              "      <td>Nominated for 5 Oscars. Another 10 wins &amp; 75 n...</td>\n",
              "      <td>USA</td>\n",
              "      <td>27 Jun 2000</td>\n",
              "      <td>Anthony Minghella</td>\n",
              "      <td>English, Italian</td>\n",
              "      <td>In late 1950s New York, Tom Ripley, a young un...</td>\n",
              "      <td>https://images-na.ssl-images-amazon.com/images...</td>\n",
              "      <td>Paramount Pictures</td>\n",
              "      <td>R</td>\n",
              "      <td>25 Dec 1999</td>\n",
              "      <td>139 min</td>\n",
              "      <td>The Talented Mr. Ripley</td>\n",
              "      <td>movie</td>\n",
              "      <td>http://www.talentedmrripley.com</td>\n",
              "      <td>1999</td>\n",
              "      <td>tt0134119</td>\n",
              "      <td>7.4</td>\n",
              "      <td>151,938</td>\n",
              "      <td>178686</td>\n",
              "      <td>Cate Blanchett</td>\n",
              "      <td>66162</td>\n",
              "      <td>Patricia Highsmith</td>\n",
              "      <td>novel</td>\n",
              "      <td>317241</td>\n",
              "      <td>Thriller</td>\n",
              "    </tr>\n",
              "    <tr>\n",
              "      <th>127344</th>\n",
              "      <td>Nominated for 5 Oscars. Another 10 wins &amp; 75 n...</td>\n",
              "      <td>USA</td>\n",
              "      <td>27 Jun 2000</td>\n",
              "      <td>Anthony Minghella</td>\n",
              "      <td>English, Italian</td>\n",
              "      <td>In late 1950s New York, Tom Ripley, a young un...</td>\n",
              "      <td>https://images-na.ssl-images-amazon.com/images...</td>\n",
              "      <td>Paramount Pictures</td>\n",
              "      <td>R</td>\n",
              "      <td>25 Dec 1999</td>\n",
              "      <td>139 min</td>\n",
              "      <td>The Talented Mr. Ripley</td>\n",
              "      <td>movie</td>\n",
              "      <td>http://www.talentedmrripley.com</td>\n",
              "      <td>1999</td>\n",
              "      <td>tt0134119</td>\n",
              "      <td>7.4</td>\n",
              "      <td>151,938</td>\n",
              "      <td>178686</td>\n",
              "      <td>Cate Blanchett</td>\n",
              "      <td>66163</td>\n",
              "      <td>Anthony Minghella</td>\n",
              "      <td>screenplay</td>\n",
              "      <td>317239</td>\n",
              "      <td>Crime</td>\n",
              "    </tr>\n",
              "    <tr>\n",
              "      <th>127345</th>\n",
              "      <td>Nominated for 5 Oscars. Another 10 wins &amp; 75 n...</td>\n",
              "      <td>USA</td>\n",
              "      <td>27 Jun 2000</td>\n",
              "      <td>Anthony Minghella</td>\n",
              "      <td>English, Italian</td>\n",
              "      <td>In late 1950s New York, Tom Ripley, a young un...</td>\n",
              "      <td>https://images-na.ssl-images-amazon.com/images...</td>\n",
              "      <td>Paramount Pictures</td>\n",
              "      <td>R</td>\n",
              "      <td>25 Dec 1999</td>\n",
              "      <td>139 min</td>\n",
              "      <td>The Talented Mr. Ripley</td>\n",
              "      <td>movie</td>\n",
              "      <td>http://www.talentedmrripley.com</td>\n",
              "      <td>1999</td>\n",
              "      <td>tt0134119</td>\n",
              "      <td>7.4</td>\n",
              "      <td>151,938</td>\n",
              "      <td>178686</td>\n",
              "      <td>Cate Blanchett</td>\n",
              "      <td>66163</td>\n",
              "      <td>Anthony Minghella</td>\n",
              "      <td>screenplay</td>\n",
              "      <td>317240</td>\n",
              "      <td>Drama</td>\n",
              "    </tr>\n",
              "    <tr>\n",
              "      <th>127346</th>\n",
              "      <td>Nominated for 5 Oscars. Another 10 wins &amp; 75 n...</td>\n",
              "      <td>USA</td>\n",
              "      <td>27 Jun 2000</td>\n",
              "      <td>Anthony Minghella</td>\n",
              "      <td>English, Italian</td>\n",
              "      <td>In late 1950s New York, Tom Ripley, a young un...</td>\n",
              "      <td>https://images-na.ssl-images-amazon.com/images...</td>\n",
              "      <td>Paramount Pictures</td>\n",
              "      <td>R</td>\n",
              "      <td>25 Dec 1999</td>\n",
              "      <td>139 min</td>\n",
              "      <td>The Talented Mr. Ripley</td>\n",
              "      <td>movie</td>\n",
              "      <td>http://www.talentedmrripley.com</td>\n",
              "      <td>1999</td>\n",
              "      <td>tt0134119</td>\n",
              "      <td>7.4</td>\n",
              "      <td>151,938</td>\n",
              "      <td>178686</td>\n",
              "      <td>Cate Blanchett</td>\n",
              "      <td>66163</td>\n",
              "      <td>Anthony Minghella</td>\n",
              "      <td>screenplay</td>\n",
              "      <td>317241</td>\n",
              "      <td>Thriller</td>\n",
              "    </tr>\n",
              "  </tbody>\n",
              "</table>\n",
              "<p>94926 rows × 25 columns</p>\n",
              "</div>"
            ],
            "text/plain": [
              "                                                   Awards  ...      Genre\n",
              "5                                           1 nomination.  ...  Animation\n",
              "6                                           1 nomination.  ...      Drama\n",
              "7                                           1 nomination.  ...     Family\n",
              "8                                           1 nomination.  ...  Animation\n",
              "9                                           1 nomination.  ...      Drama\n",
              "...                                                   ...  ...        ...\n",
              "127342  Nominated for 5 Oscars. Another 10 wins & 75 n...  ...      Drama\n",
              "127343  Nominated for 5 Oscars. Another 10 wins & 75 n...  ...   Thriller\n",
              "127344  Nominated for 5 Oscars. Another 10 wins & 75 n...  ...      Crime\n",
              "127345  Nominated for 5 Oscars. Another 10 wins & 75 n...  ...      Drama\n",
              "127346  Nominated for 5 Oscars. Another 10 wins & 75 n...  ...   Thriller\n",
              "\n",
              "[94926 rows x 25 columns]"
            ]
          },
          "metadata": {
            "tags": []
          },
          "execution_count": 55
        }
      ]
    },
    {
      "cell_type": "code",
      "metadata": {
        "id": "ZBT4wCziN1M7",
        "colab_type": "code",
        "colab": {
          "base_uri": "https://localhost:8080/",
          "height": 119
        },
        "outputId": "34c510ae-992c-4534-ddc7-a641d610e601"
      },
      "source": [
        "full_movie_info_3.columns"
      ],
      "execution_count": 56,
      "outputs": [
        {
          "output_type": "execute_result",
          "data": {
            "text/plain": [
              "Index(['Awards', 'Country', 'DVD', 'Director', 'Language', 'Plot', 'Poster',\n",
              "       'Production', 'Rated', 'Released', 'Runtime', 'Title', 'Type',\n",
              "       'Website', 'Year', 'imdbID', 'imdbRating', 'imdbVotes', 'Unnamed: 0_x',\n",
              "       'Actors', 'Unnamed: 0_y', 'Person', 'Responsibility', 'Unnamed: 0',\n",
              "       'Genre'],\n",
              "      dtype='object')"
            ]
          },
          "metadata": {
            "tags": []
          },
          "execution_count": 56
        }
      ]
    },
    {
      "cell_type": "code",
      "metadata": {
        "id": "cQUEhdSoJePS",
        "colab_type": "code",
        "colab": {}
      },
      "source": [
        "# get rid of what i feel are unecessary columns\n",
        "\n",
        "# previously dropped, website and poster\n",
        "\n",
        "full_movie_info_3 = full_movie_info_3.drop(['Unnamed: 0_x', 'Unnamed: 0_y'], axis=1)\n",
        "\n"
      ],
      "execution_count": 0,
      "outputs": []
    },
    {
      "cell_type": "code",
      "metadata": {
        "id": "8afb7aZiN-wF",
        "colab_type": "code",
        "colab": {}
      },
      "source": [
        "full_movie_info_3"
      ],
      "execution_count": 0,
      "outputs": []
    },
    {
      "cell_type": "code",
      "metadata": {
        "id": "zZndmyURL9w1",
        "colab_type": "code",
        "colab": {
          "base_uri": "https://localhost:8080/",
          "height": 1000
        },
        "outputId": "b9a605ba-bb6b-4189-8619-6a77db11e5be"
      },
      "source": [
        "# sort by ratings\n",
        "# ouch, lowest rating is 1.0\n",
        "\n",
        "\n",
        "\n",
        "sorted_movies = full_movie_info_3.sort_values(by=['imdbRating'])\n",
        "\n",
        "sorted_movies"
      ],
      "execution_count": 65,
      "outputs": [
        {
          "output_type": "execute_result",
          "data": {
            "text/html": [
              "<div>\n",
              "<style scoped>\n",
              "    .dataframe tbody tr th:only-of-type {\n",
              "        vertical-align: middle;\n",
              "    }\n",
              "\n",
              "    .dataframe tbody tr th {\n",
              "        vertical-align: top;\n",
              "    }\n",
              "\n",
              "    .dataframe thead th {\n",
              "        text-align: right;\n",
              "    }\n",
              "</style>\n",
              "<table border=\"1\" class=\"dataframe\">\n",
              "  <thead>\n",
              "    <tr style=\"text-align: right;\">\n",
              "      <th></th>\n",
              "      <th>Awards</th>\n",
              "      <th>Country</th>\n",
              "      <th>DVD</th>\n",
              "      <th>Director</th>\n",
              "      <th>Language</th>\n",
              "      <th>Plot</th>\n",
              "      <th>Production</th>\n",
              "      <th>Rated</th>\n",
              "      <th>Released</th>\n",
              "      <th>Runtime</th>\n",
              "      <th>Title</th>\n",
              "      <th>Type</th>\n",
              "      <th>Year</th>\n",
              "      <th>imdbID</th>\n",
              "      <th>imdbRating</th>\n",
              "      <th>imdbVotes</th>\n",
              "      <th>Actors</th>\n",
              "      <th>Person</th>\n",
              "      <th>Responsibility</th>\n",
              "      <th>Unnamed: 0</th>\n",
              "      <th>Genre</th>\n",
              "    </tr>\n",
              "  </thead>\n",
              "  <tbody>\n",
              "    <tr>\n",
              "      <th>46911</th>\n",
              "      <td>NaN</td>\n",
              "      <td>USA</td>\n",
              "      <td>31 Dec 2013</td>\n",
              "      <td>Francis Ford</td>\n",
              "      <td>English</td>\n",
              "      <td>Molly O'Day and her brother, Josh, are homeste...</td>\n",
              "      <td>Believe Pictures</td>\n",
              "      <td>PASSED</td>\n",
              "      <td>29 Jan 1928</td>\n",
              "      <td>50 min</td>\n",
              "      <td>The Call of the Heart</td>\n",
              "      <td>movie</td>\n",
              "      <td>1928</td>\n",
              "      <td>tt0018740</td>\n",
              "      <td>1.0</td>\n",
              "      <td>5</td>\n",
              "      <td>William Steele</td>\n",
              "      <td>Basil Dickey</td>\n",
              "      <td>scenario</td>\n",
              "      <td>133127</td>\n",
              "      <td>Adventure</td>\n",
              "    </tr>\n",
              "    <tr>\n",
              "      <th>75559</th>\n",
              "      <td>NaN</td>\n",
              "      <td>Japan</td>\n",
              "      <td>NaN</td>\n",
              "      <td>Takashi Imahashi, Kenta Matsuo, Akihiro Mima, ...</td>\n",
              "      <td>Japanese</td>\n",
              "      <td>NaN</td>\n",
              "      <td>NaN</td>\n",
              "      <td>NaN</td>\n",
              "      <td>NaN</td>\n",
              "      <td>119 min</td>\n",
              "      <td>Ramo Trip</td>\n",
              "      <td>movie</td>\n",
              "      <td>2012</td>\n",
              "      <td>tt2124890</td>\n",
              "      <td>1.0</td>\n",
              "      <td>228</td>\n",
              "      <td>Natsuko Ikenaga</td>\n",
              "      <td>Hiroshi Okada</td>\n",
              "      <td>screenplay</td>\n",
              "      <td>214871</td>\n",
              "      <td>Documentary</td>\n",
              "    </tr>\n",
              "    <tr>\n",
              "      <th>75560</th>\n",
              "      <td>NaN</td>\n",
              "      <td>Japan</td>\n",
              "      <td>NaN</td>\n",
              "      <td>Takashi Imahashi, Kenta Matsuo, Akihiro Mima, ...</td>\n",
              "      <td>Japanese</td>\n",
              "      <td>NaN</td>\n",
              "      <td>NaN</td>\n",
              "      <td>NaN</td>\n",
              "      <td>NaN</td>\n",
              "      <td>119 min</td>\n",
              "      <td>Ramo Trip</td>\n",
              "      <td>movie</td>\n",
              "      <td>2012</td>\n",
              "      <td>tt2124890</td>\n",
              "      <td>1.0</td>\n",
              "      <td>228</td>\n",
              "      <td>Natsuko Ikenaga</td>\n",
              "      <td>Mariya Nukatsuka</td>\n",
              "      <td>screenplay</td>\n",
              "      <td>214871</td>\n",
              "      <td>Documentary</td>\n",
              "    </tr>\n",
              "    <tr>\n",
              "      <th>46909</th>\n",
              "      <td>NaN</td>\n",
              "      <td>USA</td>\n",
              "      <td>31 Dec 2013</td>\n",
              "      <td>Francis Ford</td>\n",
              "      <td>English</td>\n",
              "      <td>Molly O'Day and her brother, Josh, are homeste...</td>\n",
              "      <td>Believe Pictures</td>\n",
              "      <td>PASSED</td>\n",
              "      <td>29 Jan 1928</td>\n",
              "      <td>50 min</td>\n",
              "      <td>The Call of the Heart</td>\n",
              "      <td>movie</td>\n",
              "      <td>1928</td>\n",
              "      <td>tt0018740</td>\n",
              "      <td>1.0</td>\n",
              "      <td>5</td>\n",
              "      <td>William Steele</td>\n",
              "      <td>Basil Dickey</td>\n",
              "      <td>story</td>\n",
              "      <td>133128</td>\n",
              "      <td>Romance</td>\n",
              "    </tr>\n",
              "    <tr>\n",
              "      <th>46910</th>\n",
              "      <td>NaN</td>\n",
              "      <td>USA</td>\n",
              "      <td>31 Dec 2013</td>\n",
              "      <td>Francis Ford</td>\n",
              "      <td>English</td>\n",
              "      <td>Molly O'Day and her brother, Josh, are homeste...</td>\n",
              "      <td>Believe Pictures</td>\n",
              "      <td>PASSED</td>\n",
              "      <td>29 Jan 1928</td>\n",
              "      <td>50 min</td>\n",
              "      <td>The Call of the Heart</td>\n",
              "      <td>movie</td>\n",
              "      <td>1928</td>\n",
              "      <td>tt0018740</td>\n",
              "      <td>1.0</td>\n",
              "      <td>5</td>\n",
              "      <td>William Steele</td>\n",
              "      <td>Basil Dickey</td>\n",
              "      <td>scenario</td>\n",
              "      <td>133126</td>\n",
              "      <td>Action</td>\n",
              "    </tr>\n",
              "    <tr>\n",
              "      <th>...</th>\n",
              "      <td>...</td>\n",
              "      <td>...</td>\n",
              "      <td>...</td>\n",
              "      <td>...</td>\n",
              "      <td>...</td>\n",
              "      <td>...</td>\n",
              "      <td>...</td>\n",
              "      <td>...</td>\n",
              "      <td>...</td>\n",
              "      <td>...</td>\n",
              "      <td>...</td>\n",
              "      <td>...</td>\n",
              "      <td>...</td>\n",
              "      <td>...</td>\n",
              "      <td>...</td>\n",
              "      <td>...</td>\n",
              "      <td>...</td>\n",
              "      <td>...</td>\n",
              "      <td>...</td>\n",
              "      <td>...</td>\n",
              "      <td>...</td>\n",
              "    </tr>\n",
              "    <tr>\n",
              "      <th>90489</th>\n",
              "      <td>NaN</td>\n",
              "      <td>Greece</td>\n",
              "      <td>NaN</td>\n",
              "      <td>Anestis Dalezis, Leonard Thimo</td>\n",
              "      <td>Greek</td>\n",
              "      <td>\"Funny Show\" is a kind of \"Dark Parody\" became...</td>\n",
              "      <td>NaN</td>\n",
              "      <td>NaN</td>\n",
              "      <td>30 Aug 2011</td>\n",
              "      <td>24 min</td>\n",
              "      <td>Funny Show: Part One</td>\n",
              "      <td>movie</td>\n",
              "      <td>2011</td>\n",
              "      <td>tt2918130</td>\n",
              "      <td>10.0</td>\n",
              "      <td>8</td>\n",
              "      <td>Leonard Thimo</td>\n",
              "      <td>Tony Meramveliotakis</td>\n",
              "      <td>original characters created by</td>\n",
              "      <td>257859</td>\n",
              "      <td>Short</td>\n",
              "    </tr>\n",
              "    <tr>\n",
              "      <th>90488</th>\n",
              "      <td>NaN</td>\n",
              "      <td>Greece</td>\n",
              "      <td>NaN</td>\n",
              "      <td>Anestis Dalezis, Leonard Thimo</td>\n",
              "      <td>Greek</td>\n",
              "      <td>\"Funny Show\" is a kind of \"Dark Parody\" became...</td>\n",
              "      <td>NaN</td>\n",
              "      <td>NaN</td>\n",
              "      <td>30 Aug 2011</td>\n",
              "      <td>24 min</td>\n",
              "      <td>Funny Show: Part One</td>\n",
              "      <td>movie</td>\n",
              "      <td>2011</td>\n",
              "      <td>tt2918130</td>\n",
              "      <td>10.0</td>\n",
              "      <td>8</td>\n",
              "      <td>Leonard Thimo</td>\n",
              "      <td>Anestis Dalezis</td>\n",
              "      <td>story</td>\n",
              "      <td>257861</td>\n",
              "      <td>Talk-Show</td>\n",
              "    </tr>\n",
              "    <tr>\n",
              "      <th>90487</th>\n",
              "      <td>NaN</td>\n",
              "      <td>Greece</td>\n",
              "      <td>NaN</td>\n",
              "      <td>Anestis Dalezis, Leonard Thimo</td>\n",
              "      <td>Greek</td>\n",
              "      <td>\"Funny Show\" is a kind of \"Dark Parody\" became...</td>\n",
              "      <td>NaN</td>\n",
              "      <td>NaN</td>\n",
              "      <td>30 Aug 2011</td>\n",
              "      <td>24 min</td>\n",
              "      <td>Funny Show: Part One</td>\n",
              "      <td>movie</td>\n",
              "      <td>2011</td>\n",
              "      <td>tt2918130</td>\n",
              "      <td>10.0</td>\n",
              "      <td>8</td>\n",
              "      <td>Leonard Thimo</td>\n",
              "      <td>Anestis Dalezis</td>\n",
              "      <td>story</td>\n",
              "      <td>257860</td>\n",
              "      <td>Comedy</td>\n",
              "    </tr>\n",
              "    <tr>\n",
              "      <th>90494</th>\n",
              "      <td>NaN</td>\n",
              "      <td>Greece</td>\n",
              "      <td>NaN</td>\n",
              "      <td>Anestis Dalezis, Leonard Thimo</td>\n",
              "      <td>Greek</td>\n",
              "      <td>\"Funny Show\" is a kind of \"Dark Parody\" became...</td>\n",
              "      <td>NaN</td>\n",
              "      <td>NaN</td>\n",
              "      <td>30 Aug 2011</td>\n",
              "      <td>24 min</td>\n",
              "      <td>Funny Show: Part One</td>\n",
              "      <td>movie</td>\n",
              "      <td>2011</td>\n",
              "      <td>tt2918130</td>\n",
              "      <td>10.0</td>\n",
              "      <td>8</td>\n",
              "      <td>Leonard Thimo</td>\n",
              "      <td>Tony Meramveliotakis</td>\n",
              "      <td>screenplay</td>\n",
              "      <td>257861</td>\n",
              "      <td>Talk-Show</td>\n",
              "    </tr>\n",
              "    <tr>\n",
              "      <th>90498</th>\n",
              "      <td>NaN</td>\n",
              "      <td>Greece</td>\n",
              "      <td>NaN</td>\n",
              "      <td>Anestis Dalezis, Leonard Thimo</td>\n",
              "      <td>Greek</td>\n",
              "      <td>\"Funny Show\" is a kind of \"Dark Parody\" became...</td>\n",
              "      <td>NaN</td>\n",
              "      <td>NaN</td>\n",
              "      <td>30 Aug 2011</td>\n",
              "      <td>24 min</td>\n",
              "      <td>Funny Show: Part One</td>\n",
              "      <td>movie</td>\n",
              "      <td>2011</td>\n",
              "      <td>tt2918130</td>\n",
              "      <td>10.0</td>\n",
              "      <td>8</td>\n",
              "      <td>Leonard Thimo</td>\n",
              "      <td>Leonard Thimo</td>\n",
              "      <td>story</td>\n",
              "      <td>257859</td>\n",
              "      <td>Short</td>\n",
              "    </tr>\n",
              "  </tbody>\n",
              "</table>\n",
              "<p>94926 rows × 21 columns</p>\n",
              "</div>"
            ],
            "text/plain": [
              "      Awards Country  ... Unnamed: 0        Genre\n",
              "46911    NaN     USA  ...     133127    Adventure\n",
              "75559    NaN   Japan  ...     214871  Documentary\n",
              "75560    NaN   Japan  ...     214871  Documentary\n",
              "46909    NaN     USA  ...     133128      Romance\n",
              "46910    NaN     USA  ...     133126       Action\n",
              "...      ...     ...  ...        ...          ...\n",
              "90489    NaN  Greece  ...     257859        Short\n",
              "90488    NaN  Greece  ...     257861    Talk-Show\n",
              "90487    NaN  Greece  ...     257860       Comedy\n",
              "90494    NaN  Greece  ...     257861    Talk-Show\n",
              "90498    NaN  Greece  ...     257859        Short\n",
              "\n",
              "[94926 rows x 21 columns]"
            ]
          },
          "metadata": {
            "tags": []
          },
          "execution_count": 65
        }
      ]
    },
    {
      "cell_type": "code",
      "metadata": {
        "id": "ADKsqzg1OnEi",
        "colab_type": "code",
        "colab": {
          "base_uri": "https://localhost:8080/",
          "height": 391
        },
        "outputId": "b9bdf74c-a1fe-4880-8469-65d4b155ab03"
      },
      "source": [
        "sorted_movies.isnull().sum()"
      ],
      "execution_count": 66,
      "outputs": [
        {
          "output_type": "execute_result",
          "data": {
            "text/plain": [
              "Awards            53054\n",
              "Country             102\n",
              "DVD               47164\n",
              "Director            556\n",
              "Language           1127\n",
              "Plot               9089\n",
              "Production        42882\n",
              "Rated             36719\n",
              "Released           5865\n",
              "Runtime            3769\n",
              "Title                 0\n",
              "Type                  0\n",
              "Year                  0\n",
              "imdbID                0\n",
              "imdbRating            0\n",
              "imdbVotes             0\n",
              "Actors                0\n",
              "Person                0\n",
              "Responsibility        0\n",
              "Unnamed: 0            0\n",
              "Genre                 0\n",
              "dtype: int64"
            ]
          },
          "metadata": {
            "tags": []
          },
          "execution_count": 66
        }
      ]
    },
    {
      "cell_type": "code",
      "metadata": {
        "id": "Amo700AZSYJo",
        "colab_type": "code",
        "colab": {}
      },
      "source": [
        "# the nulls are weird in this data\n",
        "# not entirely detremental to the info\n",
        "# some of the movies are in multiple rows since some movies cross multiple genres\n",
        "\n",
        "# "
      ],
      "execution_count": 0,
      "outputs": []
    }
  ]
}